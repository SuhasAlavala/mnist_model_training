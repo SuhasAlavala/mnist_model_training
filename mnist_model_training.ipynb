{
 "cells": [
  {
   "cell_type": "code",
   "execution_count": 3,
   "metadata": {},
   "outputs": [
    {
     "name": "stdout",
     "output_type": "stream",
     "text": [
      "1.14.0\n"
     ]
    }
   ],
   "source": [
    "import tensorflow.keras as keras\n",
    "import tensorflow as tf\n",
    "import numpy as np\n",
    "\n",
    "print(tf.__version__)"
   ]
  },
  {
   "cell_type": "code",
   "execution_count": 12,
   "metadata": {},
   "outputs": [],
   "source": [
    "#loading ur dataset\n",
    "mnist = keras.datasets.mnist\n",
    "(train_x,train_y),(test_x,test_y) = mnist.load_data()"
   ]
  },
  {
   "cell_type": "code",
   "execution_count": 59,
   "metadata": {},
   "outputs": [
    {
     "data": {
      "image/png": "[encoded data removed]",
      "text/plain": [
       "<Figure size 432x288 with 1 Axes>"
      ]
     },
     "metadata": {
      "needs_background": "light"
     },
     "output_type": "display_data"
    },
    {
     "name": "stdout",
     "output_type": "stream",
     "text": [
      "5\n"
     ]
    }
   ],
   "source": [
    "#displaying our data\n",
    "import matplotlib.pyplot as plt\n",
    "\n",
    "%matplotlib inline\n",
    "\n",
    "#printing training data\n",
    "plt.imshow(train_x[0], cmap=plt.cm.binary) #cm stands for colour maps\n",
    "plt.show()\n",
    "print(train_y[0])"
   ]
  },
  {
   "cell_type": "code",
   "execution_count": 30,
   "metadata": {},
   "outputs": [
    {
     "name": "stdout",
     "output_type": "stream",
     "text": [
      "[[0.         0.         0.         0.         0.         0.\n",
      "  0.         0.         0.         0.         0.         0.\n",
      "  0.         0.         0.         0.         0.         0.\n",
      "  0.         0.         0.         0.         0.         0.\n",
      "  0.         0.         0.         0.        ]\n",
      " [0.         0.         0.         0.         0.         0.\n",
      "  0.         0.         0.         0.         0.         0.\n",
      "  0.         0.         0.         0.         0.         0.\n",
      "  0.         0.         0.         0.         0.         0.\n",
      "  0.         0.         0.         0.        ]\n",
      " [0.         0.         0.         0.         0.         0.\n",
      "  0.         0.         0.         0.         0.         0.\n",
      "  0.         0.         0.         0.         0.         0.\n",
      "  0.         0.         0.         0.         0.         0.\n",
      "  0.         0.         0.         0.        ]\n",
      " [0.         0.         0.         0.         0.         0.\n",
      "  0.         0.         0.         0.         0.         0.\n",
      "  0.         0.         0.         0.         0.         0.\n",
      "  0.         0.         0.         0.         0.         0.\n",
      "  0.         0.         0.         0.        ]\n",
      " [0.         0.         0.         0.         0.         0.\n",
      "  0.         0.         0.         0.         0.         0.\n",
      "  0.         0.         0.         0.         0.         0.\n",
      "  0.         0.         0.         0.         0.         0.\n",
      "  0.         0.         0.         0.        ]\n",
      " [0.         0.         0.         0.         0.         0.\n",
      "  0.         0.         0.         0.         0.         0.\n",
      "  0.00170736 0.01063477 0.0141536  0.01433    0.09585781 0.09644434\n",
      "  0.1564545  0.03067724 0.50405872 0.73498637 0.79631276 0.90511819\n",
      "  0.         0.         0.         0.        ]\n",
      " [0.         0.         0.         0.         0.         0.\n",
      "  0.         0.         0.04362855 0.04481277 0.10990742 0.11707046\n",
      "  0.09018271 0.13933081 0.1854325  0.18774353 0.17941071 0.16723581\n",
      "  0.18750094 0.18916567 0.71608484 0.65016768 0.58599275 0.42516005\n",
      "  0.         0.         0.         0.        ]\n",
      " [0.         0.         0.         0.         0.         0.\n",
      "  0.         0.13346857 0.44297671 0.4030642  0.3785943  0.24615094\n",
      "  0.17177077 0.17832061 0.23732323 0.24028096 0.22961632 0.21234247\n",
      "  0.0991878  0.11542028 0.29703812 0.19255395 0.14999494 0.\n",
      "  0.         0.         0.         0.        ]\n",
      " [0.         0.         0.         0.         0.         0.\n",
      "  0.         0.05502498 0.45745935 0.45235425 0.42489197 0.27625233\n",
      "  0.19277634 0.20012714 0.20844399 0.19398792 0.25158436 0.22881508\n",
      "  0.         0.         0.         0.         0.         0.\n",
      "  0.         0.         0.         0.        ]\n",
      " [0.         0.         0.         0.         0.         0.\n",
      "  0.         0.         0.26957837 0.44995535 0.2898868  0.44564867\n",
      "  0.31098568 0.26159293 0.01868115 0.         0.07065482 0.23587124\n",
      "  0.         0.         0.         0.         0.         0.\n",
      "  0.         0.         0.         0.        ]\n",
      " [0.         0.         0.         0.         0.         0.\n",
      "  0.         0.         0.         0.06814283 0.00457185 0.45776243\n",
      "  0.52479262 0.19380366 0.         0.         0.         0.\n",
      "  0.         0.         0.         0.         0.         0.\n",
      "  0.         0.         0.         0.        ]\n",
      " [0.         0.         0.         0.         0.         0.\n",
      "  0.         0.         0.         0.         0.         0.37567776\n",
      "  0.47716544 0.37200976 0.00521158 0.         0.         0.\n",
      "  0.         0.         0.         0.         0.         0.\n",
      "  0.         0.         0.         0.        ]\n",
      " [0.         0.         0.         0.         0.         0.\n",
      "  0.         0.         0.         0.         0.         0.03229502\n",
      "  0.38926396 0.53810048 0.1981434  0.         0.         0.\n",
      "  0.         0.         0.         0.         0.         0.\n",
      "  0.         0.         0.         0.        ]\n",
      " [0.         0.         0.         0.         0.         0.\n",
      "  0.         0.         0.         0.         0.         0.\n",
      "  0.05714069 0.40845736 0.50751737 0.36539911 0.23569733 0.00203429\n",
      "  0.         0.         0.         0.         0.         0.\n",
      "  0.         0.         0.         0.        ]\n",
      " [0.         0.         0.         0.         0.         0.\n",
      "  0.         0.         0.         0.         0.         0.\n",
      "  0.         0.11325068 0.44658666 0.47664401 0.45548863 0.19970314\n",
      "  0.05289201 0.         0.         0.         0.         0.\n",
      "  0.         0.         0.         0.        ]\n",
      " [0.         0.         0.         0.         0.         0.\n",
      "  0.         0.         0.         0.         0.         0.\n",
      "  0.         0.         0.08880074 0.37161749 0.48304447 0.45026483\n",
      "  0.33655104 0.07994962 0.         0.         0.         0.\n",
      "  0.         0.         0.         0.        ]\n",
      " [0.         0.         0.         0.         0.         0.\n",
      "  0.         0.         0.         0.         0.         0.\n",
      "  0.         0.         0.         0.02868646 0.15933945 0.40245915\n",
      "  0.50939416 0.49689885 0.         0.         0.         0.\n",
      "  0.         0.         0.         0.        ]\n",
      " [0.         0.         0.         0.         0.         0.\n",
      "  0.         0.         0.         0.         0.         0.\n",
      "  0.         0.         0.         0.         0.         0.34571763\n",
      "  0.44284819 0.5752103  0.38048484 0.         0.         0.\n",
      "  0.         0.         0.         0.        ]\n",
      " [0.         0.         0.         0.         0.         0.\n",
      "  0.         0.         0.         0.         0.         0.\n",
      "  0.         0.         0.07219825 0.20658146 0.27789611 0.35812349\n",
      "  0.45148672 0.48751474 0.01212209 0.         0.         0.\n",
      "  0.         0.         0.         0.        ]\n",
      " [0.         0.         0.         0.         0.         0.\n",
      "  0.         0.         0.         0.         0.         0.\n",
      "  0.03699598 0.14574844 0.30013482 0.33572257 0.32082184 0.29905071\n",
      "  0.37254308 0.35793225 0.         0.         0.         0.\n",
      "  0.         0.         0.         0.        ]\n",
      " [0.         0.         0.         0.         0.         0.\n",
      "  0.         0.         0.         0.         0.05501155 0.16989279\n",
      "  0.22983181 0.27314336 0.36352088 0.3680514  0.35171579 0.26046437\n",
      "  0.12742629 0.         0.         0.         0.         0.\n",
      "  0.         0.         0.         0.        ]\n",
      " [0.         0.         0.         0.         0.         0.\n",
      "  0.         0.         0.06382117 0.15675834 0.47518876 0.36697333\n",
      "  0.2560839  0.2658487  0.35381257 0.28034772 0.1095974  0.00252247\n",
      "  0.         0.         0.         0.         0.         0.\n",
      "  0.         0.         0.         0.        ]\n",
      " [0.         0.         0.         0.         0.         0.\n",
      "  0.07895548 0.57166633 0.50027827 0.49469533 0.46466253 0.30210999\n",
      "  0.21082051 0.16868607 0.0921029  0.01049071 0.         0.\n",
      "  0.         0.         0.         0.         0.         0.\n",
      "  0.         0.         0.         0.        ]\n",
      " [0.         0.         0.         0.         0.42201446 0.61626981\n",
      "  0.71463381 0.60972274 0.41663276 0.35661793 0.33496777 0.21003891\n",
      "  0.07989311 0.00685966 0.         0.         0.         0.\n",
      "  0.         0.         0.         0.         0.         0.\n",
      "  0.         0.         0.         0.        ]\n",
      " [0.         0.         0.         0.         0.9065891  0.78753509\n",
      "  0.69502845 0.52971142 0.3033023  0.16531923 0.15183202 0.01196567\n",
      "  0.         0.         0.         0.         0.         0.\n",
      "  0.         0.         0.         0.         0.         0.\n",
      "  0.         0.         0.         0.        ]\n",
      " [0.         0.         0.         0.         0.         0.\n",
      "  0.         0.         0.         0.         0.         0.\n",
      "  0.         0.         0.         0.         0.         0.\n",
      "  0.         0.         0.         0.         0.         0.\n",
      "  0.         0.         0.         0.        ]\n",
      " [0.         0.         0.         0.         0.         0.\n",
      "  0.         0.         0.         0.         0.         0.\n",
      "  0.         0.         0.         0.         0.         0.\n",
      "  0.         0.         0.         0.         0.         0.\n",
      "  0.         0.         0.         0.        ]\n",
      " [0.         0.         0.         0.         0.         0.\n",
      "  0.         0.         0.         0.         0.         0.\n",
      "  0.         0.         0.         0.         0.         0.\n",
      "  0.         0.         0.         0.         0.         0.\n",
      "  0.         0.         0.         0.        ]]\n"
     ]
    },
    {
     "data": {
      "image/png": "[encoded data removed]",
      "text/plain": [
       "<Figure size 432x288 with 1 Axes>"
      ]
     },
     "metadata": {
      "needs_background": "light"
     },
     "output_type": "display_data"
    }
   ],
   "source": [
    "#it is good to normalize your data before training\n",
    "train_x = keras.utils.normalize(train_x, axis = 1)\n",
    "test_x = keras.utils.normalize(test_x,axis = 1)\n",
    "\n",
    "#normalized data\n",
    "print(train_x[0])\n",
    "plt.imshow(train_x[0], cmap=plt.cm.binary)\n",
    "plt.show()"
   ]
  },
  {
   "cell_type": "code",
   "execution_count": 32,
   "metadata": {},
   "outputs": [
    {
     "name": "stdout",
     "output_type": "stream",
     "text": [
      "WARNING:tensorflow:From c:\\users\\suhas\\appdata\\local\\programs\\python\\python35\\lib\\site-packages\\tensorflow\\python\\ops\\init_ops.py:1251: calling VarianceScaling.__init__ (from tensorflow.python.ops.init_ops) with dtype is deprecated and will be removed in a future version.\n",
      "Instructions for updating:\n",
      "Call initializer instance with the dtype argument instead of passing it to the constructor\n"
     ]
    }
   ],
   "source": [
    "#creating ur model\n",
    "model = keras.models.Sequential()\n",
    "\n",
    "#adding layers to it\n",
    "\n",
    "#input layer\n",
    "model.add(keras.layers.Flatten())#this stretches out your 2D input to 1D input\n",
    "#hidden layes\n",
    "model.add(keras.layers.Dense(128, activation=tf.nn.relu))#dense layers means ur nodes are fully connected\n",
    "model.add(keras.layers.Dense(128, activation=tf.nn.relu))#and we are giving our nodes a relu activation\n",
    "#output layer\n",
    "model.add(keras.layers.Dense(10, activation=tf.nn.softmax))#softmax sets the output such that sum of all output nodes equals 1"
   ]
  },
  {
   "cell_type": "code",
   "execution_count": 33,
   "metadata": {},
   "outputs": [],
   "source": [
    "#compiling your model,adding optimizer, loss function\n",
    "model.compile(optimizer='adam',\n",
    "             loss='sparse_categorical_crossentropy',\n",
    "             metrics=['accuracy'])"
   ]
  },
  {
   "cell_type": "code",
   "execution_count": 34,
   "metadata": {},
   "outputs": [
    {
     "name": "stdout",
     "output_type": "stream",
     "text": [
      "Epoch 1/3\n",
      "60000/60000 [==============================] - 6s 94us/sample - loss: 0.2763 - acc: 0.9173\n",
      "Epoch 2/3\n",
      "60000/60000 [==============================] - 5s 80us/sample - loss: 0.1151 - acc: 0.9642\n",
      "Epoch 3/3\n",
      "60000/60000 [==============================] - 5s 79us/sample - loss: 0.0804 - acc: 0.9754\n",
      "/n/n\n",
      "10000/10000 [==============================] - 0s 48us/sample - loss: 0.1063 - acc: 0.9684\n",
      "0.10625636364314706\n",
      "0.9684\n"
     ]
    }
   ],
   "source": [
    "#fitting our model with training set\n",
    "model.fit(train_x, train_y, epochs=3)\n",
    "print('/n/n')\n",
    "\n",
    "#testing accuracy and loss on test data\n",
    "loss_val, acc_val = model.evaluate(test_x, test_y)\n",
    "print(loss_val)\n",
    "print(acc_val)"
   ]
  },
  {
   "cell_type": "code",
   "execution_count": 35,
   "metadata": {},
   "outputs": [
    {
     "name": "stdout",
     "output_type": "stream",
     "text": [
      "WARNING:tensorflow:From c:\\users\\suhas\\appdata\\local\\programs\\python\\python35\\lib\\site-packages\\tensorflow\\python\\ops\\init_ops.py:97: calling GlorotUniform.__init__ (from tensorflow.python.ops.init_ops) with dtype is deprecated and will be removed in a future version.\n",
      "Instructions for updating:\n",
      "Call initializer instance with the dtype argument instead of passing it to the constructor\n",
      "WARNING:tensorflow:From c:\\users\\suhas\\appdata\\local\\programs\\python\\python35\\lib\\site-packages\\tensorflow\\python\\ops\\init_ops.py:97: calling Zeros.__init__ (from tensorflow.python.ops.init_ops) with dtype is deprecated and will be removed in a future version.\n",
      "Instructions for updating:\n",
      "Call initializer instance with the dtype argument instead of passing it to the constructor\n",
      "WARNING:tensorflow:Sequential models without an `input_shape` passed to the first layer cannot reload their optimizer state. As a result, your model isstarting with a freshly initialized optimizer.\n"
     ]
    }
   ],
   "source": [
    "#saving ur model\n",
    "model.save('number_recogniser')\n",
    "model = tf.keras.models.load_model('number_recogniser')\n",
    "\n",
    "#predicting with ur model\n",
    "predictions = model.predict(test_x)"
   ]
  },
  {
   "cell_type": "code",
   "execution_count": 56,
   "metadata": {},
   "outputs": [
    {
     "name": "stdout",
     "output_type": "stream",
     "text": [
      "predicted digit:  2\n",
      "true digit:  2\n"
     ]
    },
    {
     "data": {
      "image/png": "[encoded data removed]",
      "text/plain": [
       "<Figure size 432x288 with 1 Axes>"
      ]
     },
     "metadata": {
      "needs_background": "light"
     },
     "output_type": "display_data"
    }
   ],
   "source": [
    "#knowing prediction for ith test data\n",
    "i=1\n",
    "plt.imshow(test_x[i], cmap=plt.cm.binary)\n",
    "plt.show\n",
    "print('predicted digit: ', np.argmax(predictions[i]))\n",
    "print('true digit: ', test_y[i])"
   ]
  },
  {
   "cell_type": "code",
   "execution_count": 58,
   "metadata": {},
   "outputs": [
    {
     "name": "stdout",
     "output_type": "stream",
     "text": [
      "predicted digit:  7\n",
      "true digit:  9\n"
     ]
    },
    {
     "data": {
      "image/png": "[encoded data removed]",
      "text/plain": [
       "<Figure size 432x288 with 1 Axes>"
      ]
     },
     "metadata": {
      "needs_background": "light"
     },
     "output_type": "display_data"
    }
   ],
   "source": [
    "#predicting wrongly tested data\n",
    "counter=0\n",
    "for k in range(10000):\n",
    "    if test_y[k]!=np.argmax(predictions[k]):\n",
    "        counter+=1\n",
    "        if counter==3:#true for 2nd wrongly predicted test data\n",
    "            print('predicted digit: ', np.argmax(predictions[k]))\n",
    "            print('true digit: ', test_y[k])\n",
    "            plt.imshow(test_x[k], cmap=plt.cm.binary)\n",
    "            plt.show\n",
    "            break"
   ]
  }
 ],
 "metadata": {
  "kernelspec": {
   "display_name": "Python 3",
   "language": "python",
   "name": "python3"
  },
  "language_info": {
   "codemirror_mode": {
    "name": "ipython",
    "version": 3
   },
   "file_extension": ".py",
   "mimetype": "text/x-python",
   "name": "python",
   "nbconvert_exporter": "python",
   "pygments_lexer": "ipython3",
   "version": "3.5.2"
  }
 },
 "nbformat": 4,
 "nbformat_minor": 4
}
